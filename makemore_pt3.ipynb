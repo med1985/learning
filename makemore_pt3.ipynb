{
 "cells": [
  {
   "cell_type": "code",
   "execution_count": 1,
   "id": "524e4fad-2fc8-42d7-af11-ed1139454321",
   "metadata": {},
   "outputs": [],
   "source": [
    "import torch\n",
    "import torch.nn.functional as F\n",
    "import matplotlib.pyplot as plt\n",
    "%matplotlib inline\n",
    "\n",
    "import os\n",
    "os.environ['ATEN_CPU_CAPABILITY'] = 'default'"
   ]
  },
  {
   "cell_type": "code",
   "execution_count": 2,
   "id": "467bb834-4cc2-419a-9794-5da4841a5589",
   "metadata": {},
   "outputs": [
    {
     "name": "stdout",
     "output_type": "stream",
     "text": [
      "32033\n",
      "15\n"
     ]
    }
   ],
   "source": [
    "words = open('names.txt', 'r').read().splitlines()\n",
    "print(len(words))\n",
    "print(max(len(w) for w in words))"
   ]
  },
  {
   "cell_type": "code",
   "execution_count": 3,
   "id": "5d3f2bcf-149f-4ee2-afc9-5df5baf38839",
   "metadata": {},
   "outputs": [],
   "source": [
    "# build the vocabulary of chars and mappings to/from ints\n",
    "chars = sorted(list(set(''.join(words))))\n",
    "stoi = {s:i+1 for i,s in enumerate(chars)}\n",
    "stoi['.'] = 0\n",
    "itos = {i:s for s,i in stoi.items()}\n",
    "vocab_size = len(itos)"
   ]
  },
  {
   "cell_type": "code",
   "execution_count": 4,
   "id": "1c13f0ac-ce6a-487a-8223-a81dc83c3df4",
   "metadata": {},
   "outputs": [],
   "source": [
    "import random\n",
    "random.seed(42)\n",
    "random.shuffle(words)"
   ]
  },
  {
   "cell_type": "code",
   "execution_count": 5,
   "id": "20acfb5b-1660-46da-987a-45fb98452bdf",
   "metadata": {},
   "outputs": [
    {
     "name": "stdout",
     "output_type": "stream",
     "text": [
      "torch.Size([182580, 8]) torch.Size([182580])\n",
      "torch.Size([22767, 8]) torch.Size([22767])\n",
      "torch.Size([22799, 8]) torch.Size([22799])\n"
     ]
    }
   ],
   "source": [
    "# build the dataset\n",
    "block_size = 8\n",
    "\n",
    "def build_dataset(words):    \n",
    "    X, Y = [], []\n",
    "    for w in words:\n",
    "        context= [0] * block_size\n",
    "        for ch in w + '.':\n",
    "            idx = stoi[ch]\n",
    "            X.append(context)\n",
    "            Y.append(idx)\n",
    "            #print(''.join(itos[i] for i in context), '----->', itos[idx])\n",
    "            context = context[1:] + [idx]\n",
    "    \n",
    "    X = torch.tensor(X)\n",
    "    Y = torch.tensor(Y)\n",
    "    print(X.shape, Y.shape)\n",
    "    return X, Y\n",
    "\n",
    "import random\n",
    "random.seed(42)\n",
    "random.shuffle(words)\n",
    "\n",
    "n1 = int(0.8*len(words))\n",
    "n2 = int(0.9*len(words))\n",
    "\n",
    "Xtr, Ytr = build_dataset(words[:n1])\n",
    "Xdev, Ydev = build_dataset(words[n1:n2])\n",
    "Xte, Yte = build_dataset(words[n2:])"
   ]
  },
  {
   "cell_type": "code",
   "execution_count": 6,
   "id": "a3000e3a-3c1d-4805-9621-283a5d50aa17",
   "metadata": {},
   "outputs": [
    {
     "name": "stdout",
     "output_type": "stream",
     "text": [
      "........ ----> e\n",
      ".......e ----> b\n",
      "......eb ----> r\n",
      ".....ebr ----> i\n",
      "....ebri ----> m\n",
      "...ebrim ----> a\n",
      "..ebrima ----> .\n",
      "........ ----> h\n",
      ".......h ----> i\n",
      "......hi ----> l\n",
      ".....hil ----> t\n",
      "....hilt ----> o\n",
      "...hilto ----> n\n",
      "..hilton ----> .\n",
      "........ ----> j\n",
      ".......j ----> h\n",
      "......jh ----> e\n",
      ".....jhe ----> n\n",
      "....jhen ----> e\n",
      "...jhene ----> .\n"
     ]
    }
   ],
   "source": [
    "for x, y in zip(Xtr[:20], Ytr[:20]):\n",
    "    print(''.join(itos[idx.item()] for idx in x), '---->', itos[y.item()])"
   ]
  },
  {
   "cell_type": "code",
   "execution_count": 33,
   "id": "1b3290c3-a310-41e0-bff2-8c1cc834cfe2",
   "metadata": {},
   "outputs": [],
   "source": [
    "# MLP\n",
    "n_embd = 10\n",
    "n_hidden = 200\n",
    "\n",
    "g = torch.Generator().manual_seed(2147483647)\n",
    "C = torch.randn((vocab_size, n_embd),              generator=g)\n",
    "W1 = torch.randn((n_embd * block_size, n_hidden),  generator=g)\n",
    "b1 = torch.randn(n_hidden,                         generator=g)\n",
    "W2 = torch.randn((n_hidden, vocab_size),           generator=g)\n",
    "b2 = torch.randn(vocab_size,                       generator=g)\n",
    "parameters = [C, W1, b1, W2, b2]\n",
    "\n",
    "sum(p.nelement() for p in parameters)\n",
    "for p in parameters:\n",
    "    p.requires_grad = True"
   ]
  },
  {
   "cell_type": "code",
   "execution_count": 34,
   "id": "5cedaf61-a274-4f1e-b667-1faf034ecbb8",
   "metadata": {},
   "outputs": [
    {
     "name": "stdout",
     "output_type": "stream",
     "text": [
      "      0/ 200000: 23.8316\n",
      "  10000/ 200000: 2.8531\n",
      "  20000/ 200000: 2.9791\n",
      "  30000/ 200000: 3.4601\n",
      "  40000/ 200000: 2.3306\n",
      "  50000/ 200000: 2.4962\n",
      "  60000/ 200000: 2.4845\n",
      "  70000/ 200000: 2.9875\n",
      "  80000/ 200000: 2.3714\n",
      "  90000/ 200000: 2.5060\n",
      " 100000/ 200000: 2.2300\n",
      " 110000/ 200000: 2.1032\n",
      " 120000/ 200000: 2.8410\n",
      " 130000/ 200000: 2.4380\n",
      " 140000/ 200000: 2.4123\n",
      " 150000/ 200000: 2.8858\n",
      " 160000/ 200000: 2.1869\n",
      " 170000/ 200000: 2.3482\n",
      " 180000/ 200000: 2.6519\n",
      " 190000/ 200000: 2.4645\n"
     ]
    }
   ],
   "source": [
    "# optimization\n",
    "max_steps = 200000\n",
    "batch_size = 32\n",
    "lossi = []\n",
    "\n",
    "for i in range(max_steps):\n",
    "    # minibatch construct\n",
    "    idx = torch.randint(0, Xtr.shape[0], (batch_size,), generator=g)\n",
    "    Xb, Yb = Xtr[idx], Ytr[idx]\n",
    "        \n",
    "    # forward pass\n",
    "    emb = C[Xb]\n",
    "    embcat = emb.view(emb.shape[0], -1)\n",
    "    hpreact = embcat @ W1 + b1\n",
    "    h = torch.tanh(hpreact)\n",
    "    logits = h @ W2 + b2\n",
    "    loss = F.cross_entropy(logits, Yb)\n",
    "    \n",
    "    # backward pass\n",
    "    for p in parameters:\n",
    "        p.grad = None\n",
    "    loss.backward()\n",
    "    # update\n",
    "    lr = 0.1 if i < 150000 else 0.01\n",
    "    for p in parameters:\n",
    "        p.data += -lr * p.grad\n",
    "\n",
    "    # keep stats\n",
    "    if i % 10000 == 0:\n",
    "        print(f'{i:7d}/{max_steps:7d}: {loss.item():.4f}')\n",
    "    lossi.append(loss.log10().item())"
   ]
  },
  {
   "cell_type": "code",
   "execution_count": 35,
   "id": "cb9b315a-5145-41bc-ad1f-6b6ef59895d0",
   "metadata": {
    "scrolled": true
   },
   "outputs": [
    {
     "data": {
      "text/plain": [
       "[<matplotlib.lines.Line2D at 0x7ff818787af0>]"
      ]
     },
     "execution_count": 35,
     "metadata": {},
     "output_type": "execute_result"
    },
    {
     "data": {
      "image/png": "[encoded data removed]",
      "text/plain": [
       "<Figure size 640x480 with 1 Axes>"
      ]
     },
     "metadata": {},
     "output_type": "display_data"
    }
   ],
   "source": [
    "plt.plot(torch.tensor(lossi).view(-1, 1000).mean(1))"
   ]
  },
  {
   "cell_type": "code",
   "execution_count": 36,
   "id": "3988d1e5-7456-4fbe-ae71-d503e5a64812",
   "metadata": {},
   "outputs": [
    {
     "name": "stdout",
     "output_type": "stream",
     "text": [
      "train 2.2644853591918945\n",
      "val 2.2787668704986572\n"
     ]
    }
   ],
   "source": [
    "@torch.no_grad() # disable gradient tracking\n",
    "def split_loss(split):\n",
    "    x, y = {\n",
    "        'train': (Xtr, Ytr),\n",
    "        'val':   (Xdev, Ydev),\n",
    "        'test':  (Xte, Yte)\n",
    "    }[split]\n",
    "    emb = C[x]    \n",
    "    embcat = emb.view(emb.shape[0], -1)    \n",
    "    h = torch.tanh(embcat @ W1 + b1)\n",
    "    logits = h @ W2 + b2    \n",
    "    loss = F.cross_entropy(logits, y)\n",
    "    print(split, loss.item())\n",
    "\n",
    "split_loss('train')\n",
    "split_loss('val')"
   ]
  },
  {
   "cell_type": "code",
   "execution_count": 37,
   "id": "15549a6b-4168-46dd-a617-5517dc22f4a5",
   "metadata": {},
   "outputs": [
    {
     "name": "stdout",
     "output_type": "stream",
     "text": [
      "mara.\n",
      "jecha.\n",
      "eahelhake.\n",
      "hhouz.\n",
      "bayina.\n",
      "alizah.\n",
      "cynna.\n",
      "edelongo.\n",
      "chilyn.\n",
      "erer.\n",
      "huza.\n",
      "zaraben.\n",
      "chuah.\n",
      "seney.\n",
      "limyn.\n",
      "maylah.\n",
      "ducavaram.\n",
      "axutha.\n",
      "alus.\n",
      "linny.\n"
     ]
    }
   ],
   "source": [
    "# sample from the model\n",
    "\n",
    "for _ in range(20):\n",
    "    out = []\n",
    "    context = [0] * block_size\n",
    "    while True:        \n",
    "        emb = C[torch.tensor([context])]\n",
    "        h = torch.tanh(emb.view(1, -1) @ W1 + b1)\n",
    "        logits = h @ W2 + b2\n",
    "        probs = F.softmax(logits, dim=1)\n",
    "        # do the sampling\n",
    "        idx = torch.multinomial( probs, num_samples=1).item()\n",
    "        # shift the context window\n",
    "        context = context[1:] + [idx]\n",
    "        out.append(idx)\n",
    "        if idx == 0:\n",
    "            break\n",
    "    print(''.join(itos[i] for i in out))"
   ]
  },
  {
   "cell_type": "code",
   "execution_count": null,
   "id": "21c9d172-732c-4bff-abb8-61f96c1a5968",
   "metadata": {},
   "outputs": [],
   "source": []
  }
 ],
 "metadata": {
  "kernelspec": {
   "display_name": "Python 3 (ipykernel)",
   "language": "python",
   "name": "python3"
  },
  "language_info": {
   "codemirror_mode": {
    "name": "ipython",
    "version": 3
   },
   "file_extension": ".py",
   "mimetype": "text/x-python",
   "name": "python",
   "nbconvert_exporter": "python",
   "pygments_lexer": "ipython3",
   "version": "3.9.21"
  }
 },
 "nbformat": 4,
 "nbformat_minor": 5
}
