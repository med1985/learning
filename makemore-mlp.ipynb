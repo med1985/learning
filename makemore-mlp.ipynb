{
 "cells": [
  {
   "cell_type": "code",
   "execution_count": 17,
   "id": "813bfb3c-0c4d-4af5-a9a6-58bfaf5413eb",
   "metadata": {},
   "outputs": [],
   "source": [
    "import torch\n",
    "import torch.nn.functional as F\n",
    "import matplotlib.pyplot as plt\n",
    "%matplotlib inline"
   ]
  },
  {
   "cell_type": "code",
   "execution_count": 18,
   "id": "450fd630-14e5-4d84-8127-fea035770faa",
   "metadata": {},
   "outputs": [
    {
     "data": {
      "text/plain": [
       "['emma', 'olivia', 'ava', 'isabella', 'sophia', 'charlotte', 'mia', 'amelia']"
      ]
     },
     "execution_count": 18,
     "metadata": {},
     "output_type": "execute_result"
    }
   ],
   "source": [
    "words = open('names.txt', 'r').read().splitlines()\n",
    "words[:8]"
   ]
  },
  {
   "cell_type": "code",
   "execution_count": 19,
   "id": "5b09a2b5-6a3c-45a0-a804-ee5393d3d473",
   "metadata": {},
   "outputs": [],
   "source": [
    "# build the vocabulary of chars and mappings to/from ints\n",
    "chars = sorted(list(set(''.join(words))))\n",
    "stoi = {s:i+1 for i,s in enumerate(chars)}\n",
    "stoi['.'] = 0\n",
    "itos = {i:s for s,i in stoi.items()}\n"
   ]
  },
  {
   "cell_type": "code",
   "execution_count": 84,
   "id": "1eb1cdca-bce8-4194-bba3-8abd14a5fdb5",
   "metadata": {},
   "outputs": [],
   "source": [
    "# build the dataset\n",
    "\n",
    "block_size = 3\n",
    "X, Y = [], []\n",
    "\n",
    "for w in words:\n",
    "    context= [0] * block_size\n",
    "    for ch in w + '.':\n",
    "        idx = stoi[ch]\n",
    "        X.append(context)\n",
    "        Y.append(idx)\n",
    "        #print(''.join(itos[i] for i in context), '----->', itos[idx])\n",
    "        context = context[1:] + [idx]\n",
    "\n",
    "X = torch.tensor(X)\n",
    "Y = torch.tensor(Y)"
   ]
  },
  {
   "cell_type": "code",
   "execution_count": 85,
   "id": "8bfb24d5-5e1a-454c-8ab4-cd919c1829d1",
   "metadata": {},
   "outputs": [
    {
     "data": {
      "text/plain": [
       "(torch.Size([228146, 3]), torch.int64, torch.Size([228146]), torch.int64)"
      ]
     },
     "execution_count": 85,
     "metadata": {},
     "output_type": "execute_result"
    }
   ],
   "source": [
    "X.shape, X.dtype, Y.shape, Y.dtype"
   ]
  },
  {
   "cell_type": "code",
   "execution_count": 34,
   "id": "60e215da-7e30-4d71-825b-cac89b507c06",
   "metadata": {},
   "outputs": [
    {
     "data": {
      "text/plain": [
       "tensor([[-2.4473, -0.0967],\n",
       "        [ 0.8826, -1.8210],\n",
       "        [ 0.4507, -0.4967],\n",
       "        [ 0.6312,  1.0287],\n",
       "        [ 0.1091, -0.2267],\n",
       "        [-0.4277,  2.0331],\n",
       "        [ 0.1640,  1.0193],\n",
       "        [ 1.9079, -0.3071],\n",
       "        [ 0.7179,  0.6389],\n",
       "        [-0.8530,  0.4987],\n",
       "        [-1.6897, -0.6295],\n",
       "        [ 1.5163, -0.8672],\n",
       "        [ 0.9662,  1.1189],\n",
       "        [ 0.0689, -0.3937],\n",
       "        [ 0.1939,  1.4098],\n",
       "        [-0.2188,  0.1498],\n",
       "        [ 0.3618,  0.1927],\n",
       "        [ 0.3235, -1.7494],\n",
       "        [ 1.0883, -0.2664],\n",
       "        [-0.2719,  0.6883],\n",
       "        [-1.0290, -0.8363],\n",
       "        [ 0.0060,  0.1786],\n",
       "        [ 0.0833, -0.5175],\n",
       "        [-1.8693, -0.0372],\n",
       "        [-0.6031,  0.1659],\n",
       "        [ 0.4414,  0.1703],\n",
       "        [-0.0422, -0.3846]])"
      ]
     },
     "execution_count": 34,
     "metadata": {},
     "output_type": "execute_result"
    }
   ],
   "source": [
    "C = torch.randn((27, 2))\n",
    "C"
   ]
  },
  {
   "cell_type": "code",
   "execution_count": 39,
   "id": "a5219abe-b3b0-486c-a32a-4b9c210ba5b4",
   "metadata": {},
   "outputs": [
    {
     "data": {
      "text/plain": [
       "torch.Size([32, 3, 2])"
      ]
     },
     "execution_count": 39,
     "metadata": {},
     "output_type": "execute_result"
    }
   ],
   "source": [
    "emb = C[X]\n",
    "emb.shape"
   ]
  },
  {
   "cell_type": "code",
   "execution_count": 40,
   "id": "8341b905-4533-4ed7-bf6f-e4d31baedbcf",
   "metadata": {},
   "outputs": [],
   "source": [
    "W1 = torch.rand((6, 100))\n",
    "b1 = torch.randn(100)"
   ]
  },
  {
   "cell_type": "code",
   "execution_count": 52,
   "id": "23db64d7-b865-4afc-9ef7-f9a6526b034d",
   "metadata": {},
   "outputs": [],
   "source": [
    "h = torch.tanh(emb.view(-1, 6) @ W1 + b1)"
   ]
  },
  {
   "cell_type": "code",
   "execution_count": 53,
   "id": "e8a63208-38f0-437f-8816-3980602f9138",
   "metadata": {},
   "outputs": [],
   "source": [
    "W2 = torch.randn((100, 27))\n",
    "b2 = torch.randn(27)"
   ]
  },
  {
   "cell_type": "code",
   "execution_count": 54,
   "id": "a8bfbe95-f8b5-4812-bebd-3ae94a1c43cd",
   "metadata": {},
   "outputs": [],
   "source": [
    "logits = h @ W2 + b2"
   ]
  },
  {
   "cell_type": "code",
   "execution_count": 55,
   "id": "939f432a-e5a8-45fb-877a-6b7ec2211c67",
   "metadata": {},
   "outputs": [
    {
     "data": {
      "text/plain": [
       "torch.Size([32, 27])"
      ]
     },
     "execution_count": 55,
     "metadata": {},
     "output_type": "execute_result"
    }
   ],
   "source": [
    "logits.shape"
   ]
  },
  {
   "cell_type": "code",
   "execution_count": 57,
   "id": "eafa3e9c-afa3-43c7-b7ab-6ca0ad6e4fec",
   "metadata": {},
   "outputs": [],
   "source": [
    "counts = logits.exp()"
   ]
  },
  {
   "cell_type": "code",
   "execution_count": 58,
   "id": "f1f81bc0-6243-49cb-8935-5d1b59ae960a",
   "metadata": {},
   "outputs": [],
   "source": [
    "prob = counts / counts.sum(1, keepdim=True)"
   ]
  },
  {
   "cell_type": "code",
   "execution_count": 62,
   "id": "a53ae503-285d-4113-9ad6-b40409dbaff9",
   "metadata": {},
   "outputs": [
    {
     "data": {
      "text/plain": [
       "tensor(10.2639)"
      ]
     },
     "execution_count": 62,
     "metadata": {},
     "output_type": "execute_result"
    }
   ],
   "source": [
    "loss = -prob[torch.arange(32), Y].log().mean()\n",
    "loss"
   ]
  },
  {
   "cell_type": "code",
   "execution_count": 63,
   "id": "dcdab5ab-37d1-4e2b-9659-c073a01ab01a",
   "metadata": {},
   "outputs": [],
   "source": [
    "# put it all together"
   ]
  },
  {
   "cell_type": "code",
   "execution_count": 86,
   "id": "6f5ee658-2096-40e0-aacb-374ca1f32dae",
   "metadata": {},
   "outputs": [],
   "source": [
    "g = torch.Generator().manual_seed(2147483647)\n",
    "C = torch.randn((27, 2), generator=g)\n",
    "W1 = torch.randn((6, 100), generator=g)\n",
    "b1 = torch.randn(100, generator=g)\n",
    "W2 = torch.randn((100, 27), generator=g)\n",
    "b2 = torch.randn(27, generator=g)\n",
    "parameters = [C, W1, b1, W2, b2]"
   ]
  },
  {
   "cell_type": "code",
   "execution_count": 87,
   "id": "50de0c9b-5d05-4715-852f-16b41ae39b18",
   "metadata": {},
   "outputs": [
    {
     "data": {
      "text/plain": [
       "3481"
      ]
     },
     "execution_count": 87,
     "metadata": {},
     "output_type": "execute_result"
    }
   ],
   "source": [
    "sum(p.nelement() for p in parameters)"
   ]
  },
  {
   "cell_type": "code",
   "execution_count": 88,
   "id": "0c3fefa4-20da-4e14-b565-6c7e28fbce88",
   "metadata": {},
   "outputs": [],
   "source": [
    "for p in parameters:\n",
    "    p.requires_grad = True"
   ]
  },
  {
   "cell_type": "code",
   "execution_count": null,
   "id": "296a6d70-a762-4274-bf0e-92ee15a1b5f3",
   "metadata": {},
   "outputs": [],
   "source": [
    "for _ in range(1000):\n",
    "    # forward pass\n",
    "    emb = C[X]\n",
    "    h = torch.tanh(emb.view(-1, 6) @ W1 + b1) # (32, 100)\n",
    "    logits = h @ W2 + b2                      # (32, 27)\n",
    "    loss = F.cross_entropy(logits, Y)\n",
    "    print(loss.item())\n",
    "    # backward pass\n",
    "    for p in parameters:\n",
    "        p.grad = None\n",
    "    loss.backward()\n",
    "    # update\n",
    "    for p in parameters:\n",
    "        p.data += -0.1 * p.grad\n",
    "\n",
    "print(loss.item())"
   ]
  },
  {
   "cell_type": "code",
   "execution_count": null,
   "id": "8ab8c605-d820-489c-b372-9fae7d433db8",
   "metadata": {},
   "outputs": [],
   "source": []
  }
 ],
 "metadata": {
  "kernelspec": {
   "display_name": "Python 3 (ipykernel)",
   "language": "python",
   "name": "python3"
  },
  "language_info": {
   "codemirror_mode": {
    "name": "ipython",
    "version": 3
   },
   "file_extension": ".py",
   "mimetype": "text/x-python",
   "name": "python",
   "nbconvert_exporter": "python",
   "pygments_lexer": "ipython3",
   "version": "3.9.21"
  }
 },
 "nbformat": 4,
 "nbformat_minor": 5
}
